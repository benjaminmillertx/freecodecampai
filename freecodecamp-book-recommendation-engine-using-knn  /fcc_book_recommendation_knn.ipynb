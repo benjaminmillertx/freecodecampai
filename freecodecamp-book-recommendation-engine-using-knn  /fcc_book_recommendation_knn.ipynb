{
  "cells": [
    {
      "cell_type": "markdown",
      "metadata": {
        "id": "uGd4NYQX1Rf_"
      },
      "source": [
        "*Note: You are currently reading this using Google Colaboratory which is a cloud-hosted version of Jupyter Notebook. This is a document containing both text cells for documentation and runnable code cells. If you are unfamiliar with Jupyter Notebook, watch this 3-minute introduction before starting this challenge: https://www.youtube.com/watch?v=inN8seMm7UI*\n",
        "\n",
        "---\n",
        "\n",
        "In this challenge, you will create a book recommendation algorithm using **K-Nearest Neighbors**.\n",
        "\n",
        "You will use the [Book-Crossings dataset](http://www2.informatik.uni-freiburg.de/~cziegler/BX/). This dataset contains 1.1 million ratings (scale of 1-10) of 270,000 books by 90,000 users. \n",
        "\n",
        "After importing and cleaning the data, use `NearestNeighbors` from `sklearn.neighbors` to develop a model that shows books that are similar to a given book. The Nearest Neighbors algorithm measures distance to determine the “closeness” of instances.\n",
        "\n",
        "Create a function named `get_recommends` that takes a book title (from the dataset) as an argument and returns a list of 5 similar books with their distances from the book argument.\n",
        "\n",
        "This code:\n",
        "\n",
        "`get_recommends(\"The Queen of the Damned (Vampire Chronicles (Paperback))\")`\n",
        "\n",
        "should return:\n",
        "\n",
        "```\n",
        "[\n",
        "  'The Queen of the Damned (Vampire Chronicles (Paperback))',\n",
        "  [\n",
        "    ['Catch 22', 0.793983519077301], \n",
        "    ['The Witching Hour (Lives of the Mayfair Witches)', 0.7448656558990479], \n",
        "    ['Interview with the Vampire', 0.7345068454742432],\n",
        "    ['The Tale of the Body Thief (Vampire Chronicles (Paperback))', 0.5376338362693787],\n",
        "    ['The Vampire Lestat (Vampire Chronicles, Book II)', 0.5178412199020386]\n",
        "  ]\n",
        "]\n",
        "```\n",
        "\n",
        "Notice that the data returned from `get_recommends()` is a list. The first element in the list is the book title passed in to the function. The second element in the list is a list of five more lists. Each of the five lists contains a recommended book and the distance from the recommended book to the book passed in to the function.\n",
        "\n",
        "If you graph the dataset (optional), you will notice that most books are not rated frequently. To ensure statistical significance, remove from the dataset users with less than 200 ratings and books with less than 100 ratings.\n",
        "\n",
        "The first three cells import libraries you may need and the data to use. The final cell is for testing. Write all your code in between those cells."
      ]
    },
    {
      "cell_type": "code",
      "execution_count": 1,
      "metadata": {
        "id": "Y1onB6kUvo4Z"
      },
      "outputs": [
        {
          "name": "stderr",
          "output_type": "stream",
          "text": [
            "Matplotlib is building the font cache; this may take a moment.\n"
          ]
        }
      ],
      "source": [
        "# import libraries (you may add additional imports but you may not have to)\n",
        "import numpy as np\n",
        "import pandas as pd\n",
        "from scipy.sparse import csr_matrix\n",
        "from sklearn.neighbors import NearestNeighbors\n",
        "#from sklearn.model_selection import train_test_split\n",
        "import matplotlib.pyplot as plt"
      ]
    },
    {
      "cell_type": "code",
      "execution_count": 2,
      "metadata": {},
      "outputs": [
        {
          "name": "stdout",
          "output_type": "stream",
          "text": [
            "Reading package lists... Done\n",
            "Building dependency tree       \n",
            "Reading state information... Done\n",
            "The following NEW packages will be installed:\n",
            "  wget\n",
            "0 upgraded, 1 newly installed, 0 to remove and 15 not upgraded.\n",
            "Need to get 348 kB of archives.\n",
            "After this operation, 1012 kB of additional disk space will be used.\n",
            "Get:1 http://archive.ubuntu.com/ubuntu focal-updates/main amd64 wget amd64 1.20.3-1ubuntu2 [348 kB]\n",
            "Fetched 348 kB in 1s (407 kB/s)m\u001b[33m\n",
            "debconf: delaying package configuration, since apt-utils is not installed\n",
            "\n",
            "\u001b7\u001b[0;23r\u001b8\u001b[1ASelecting previously unselected package wget.\n",
            "(Reading database ... 53381 files and directories currently installed.)\n",
            "Preparing to unpack .../wget_1.20.3-1ubuntu2_amd64.deb ...\n",
            "\u001b7\u001b[24;0f\u001b[42m\u001b[30mProgress: [  0%]\u001b[49m\u001b[39m [..........................................................] \u001b8\u001b7\u001b[24;0f\u001b[42m\u001b[30mProgress: [ 20%]\u001b[49m\u001b[39m [###########...............................................] \u001b8Unpacking wget (1.20.3-1ubuntu2) ...\n",
            "\u001b7\u001b[24;0f\u001b[42m\u001b[30mProgress: [ 40%]\u001b[49m\u001b[39m [#######################...................................] \u001b8Setting up wget (1.20.3-1ubuntu2) ...\n",
            "\u001b7\u001b[24;0f\u001b[42m\u001b[30mProgress: [ 60%]\u001b[49m\u001b[39m [##################################........................] \u001b8\u001b7\u001b[24;0f\u001b[42m\u001b[30mProgress: [ 80%]\u001b[49m\u001b[39m [##############################################............] \u001b8\n",
            "Reading package lists... Done\n",
            "Building dependency tree       \n",
            "Reading state information... Done\n",
            "unzip is already the newest version (6.0-25ubuntu1).\n",
            "0 upgraded, 0 newly installed, 0 to remove and 15 not upgraded.\n"
          ]
        }
      ],
      "source": [
        "!apt install wget\n",
        "!apt install unzip"
      ]
    },
    {
      "cell_type": "code",
      "execution_count": 3,
      "metadata": {
        "id": "iAQGqqO_vo4d"
      },
      "outputs": [
        {
          "name": "stdout",
          "output_type": "stream",
          "text": [
            "--2022-02-13 22:27:42--  https://cdn.freecodecamp.org/project-data/books/book-crossings.zip\n",
            "Resolving cdn.freecodecamp.org (cdn.freecodecamp.org)... 172.67.70.149, 104.26.2.33, 104.26.3.33, ...\n",
            "Connecting to cdn.freecodecamp.org (cdn.freecodecamp.org)|172.67.70.149|:443... connected.\n",
            "HTTP request sent, awaiting response... 200 OK\n",
            "Length: 26085508 (25M) [application/zip]\n",
            "Saving to: ‘book-crossings.zip’\n",
            "\n",
            "book-crossings.zip  100%[===================>]  24.88M  7.79MB/s    in 3.4s    \n",
            "\n",
            "2022-02-13 22:27:46 (7.26 MB/s) - ‘book-crossings.zip’ saved [26085508/26085508]\n",
            "\n",
            "Archive:  book-crossings.zip\n",
            "  inflating: BX-Book-Ratings.csv     \n",
            "  inflating: BX-Books.csv            \n",
            "  inflating: BX-Users.csv            \n"
          ]
        }
      ],
      "source": [
        "# get data files\n",
        "!wget https://cdn.freecodecamp.org/project-data/books/book-crossings.zip\n",
        "\n",
        "!unzip book-crossings.zip\n"
      ]
    },
    {
      "cell_type": "code",
      "execution_count": 2,
      "metadata": {},
      "outputs": [],
      "source": [
        "\n",
        "books_filename = 'BX-Books.csv'\n",
        "ratings_filename = 'BX-Book-Ratings.csv'"
      ]
    },
    {
      "cell_type": "code",
      "execution_count": 152,
      "metadata": {
        "id": "NClILWOiEd6Q"
      },
      "outputs": [],
      "source": [
        "# import csv data into dataframes\n",
        "df_books = pd.read_csv(\n",
        "    books_filename,\n",
        "    encoding = \"ISO-8859-1\",\n",
        "    sep=\";\",\n",
        "    header=0,\n",
        "    names=['isbn', 'title', 'author'],\n",
        "    usecols=['isbn', 'title', 'author'],\n",
        "    dtype={'isbn': 'str', 'title': 'str', 'author': 'str'})\n",
        "\n",
        "df_ratings = pd.read_csv(\n",
        "    ratings_filename,\n",
        "    encoding = \"ISO-8859-1\",\n",
        "    sep=\";\",\n",
        "    header=0,\n",
        "    names=['user', 'isbn', 'rating'],\n",
        "    usecols=['user', 'isbn', 'rating'],\n",
        "    dtype={'user': 'int32', 'isbn': 'str', 'rating': 'float32'})"
      ]
    },
    {
      "cell_type": "code",
      "execution_count": 153,
      "metadata": {},
      "outputs": [],
      "source": [
        "# Count the occurances of user and book (isbn)\n",
        "c1 = df_ratings['user'].value_counts()\n",
        "c2 = df_ratings['isbn'].value_counts()\n",
        "\n",
        "# Remove users and books where the occurances are less than 200 and 100 respectively\n",
        "df_ratings = df_ratings[~df_ratings['user'].isin(c1[c1 < 200].index)]\n",
        "df_ratings = df_ratings[~df_ratings['isbn'].isin(c2[c2 < 100].index)]\n",
        "\n",
        "# Merge the dataframes on isbn\n",
        "df = pd.merge(right=df_ratings, left=df_books, on='isbn')\n",
        "\n",
        "# Remove duplicates\n",
        "df = df.drop_duplicates(['title', 'user'])\n",
        "\n",
        "# Create a pivot\n",
        "df_pivot = df.pivot(index = 'title', columns = 'user', values = 'rating').fillna(0)"
      ]
    },
    {
      "cell_type": "code",
      "execution_count": 154,
      "metadata": {},
      "outputs": [],
      "source": [
        "# Create a sparse row matrix\n",
        "df_csr = csr_matrix(df_pivot.values)"
      ]
    },
    {
      "cell_type": "code",
      "execution_count": 155,
      "metadata": {},
      "outputs": [],
      "source": [
        "# Create the KNN-model\n",
        "nbrs = NearestNeighbors(metric='cosine', algorithm='brute', p=2).fit(df_csr)"
      ]
    },
    {
      "cell_type": "code",
      "execution_count": 156,
      "metadata": {},
      "outputs": [],
      "source": [
        "# For usage in the get_recommends function\n",
        "titles = list(df_pivot.index.values)"
      ]
    },
    {
      "cell_type": "code",
      "execution_count": 157,
      "metadata": {
        "id": "f5ZUd-L1SQz7"
      },
      "outputs": [],
      "source": [
        "# function to return recommended books - this will be tested\n",
        "def get_recommends(book = \"\"):\n",
        "  if not book:\n",
        "    return 'Please enter a book title'\n",
        "\n",
        "  distances, indices = nbrs.kneighbors(df_pivot.loc[book].values.reshape(1, -1), len(titles), True)\n",
        "  recommended_books = [book, sum([[[df_pivot.index[indices.flatten()[i]], distances.flatten()[i]]] for i in range(5, 0, -1)], [])]\n",
        "\n",
        "  return recommended_books"
      ]
    },
    {
      "cell_type": "code",
      "execution_count": 158,
      "metadata": {},
      "outputs": [
        {
          "data": {
            "text/plain": [
              "[\"Where the Heart Is (Oprah's Book Club (Paperback))\",\n",
              " [[\"I'll Be Seeing You\", 0.8016211],\n",
              "  ['The Weight of Water', 0.77085835],\n",
              "  ['The Surgeon', 0.7699411],\n",
              "  ['I Know This Much Is True', 0.7677075],\n",
              "  ['The Lovely Bones: A Novel', 0.7234864]]]"
            ]
          },
          "execution_count": 158,
          "metadata": {},
          "output_type": "execute_result"
        }
      ],
      "source": [
        "get_recommends(\"Where the Heart Is (Oprah's Book Club (Paperback))\")"
      ]
    },
    {
      "cell_type": "markdown",
      "metadata": {
        "id": "eat9A2TKawHU"
      },
      "source": [
        "Use the cell below to test your function. The `test_book_recommendation()` function will inform you if you passed the challenge or need to keep trying."
      ]
    },
    {
      "cell_type": "code",
      "execution_count": 159,
      "metadata": {
        "id": "jd2SLCh8oxMh"
      },
      "outputs": [
        {
          "name": "stdout",
          "output_type": "stream",
          "text": [
            "[\"Where the Heart Is (Oprah's Book Club (Paperback))\", [[\"I'll Be Seeing You\", 0.8016211], ['The Weight of Water', 0.77085835], ['The Surgeon', 0.7699411], ['I Know This Much Is True', 0.7677075], ['The Lovely Bones: A Novel', 0.7234864]]]\n",
            "You passed the challenge! 🎉🎉🎉🎉🎉\n"
          ]
        }
      ],
      "source": [
        "books = get_recommends(\"Where the Heart Is (Oprah's Book Club (Paperback))\")\n",
        "print(books)\n",
        "\n",
        "def test_book_recommendation():\n",
        "  test_pass = True\n",
        "  recommends = get_recommends(\"Where the Heart Is (Oprah's Book Club (Paperback))\")\n",
        "  if recommends[0] != \"Where the Heart Is (Oprah's Book Club (Paperback))\":\n",
        "    test_pass = False\n",
        "  recommended_books = [\"I'll Be Seeing You\", 'The Weight of Water', 'The Surgeon', 'I Know This Much Is True']\n",
        "  recommended_books_dist = [0.8, 0.77, 0.77, 0.77]\n",
        "  for i in range(2): \n",
        "    if recommends[1][i][0] not in recommended_books:\n",
        "      test_pass = False\n",
        "    if abs(recommends[1][i][1] - recommended_books_dist[i]) >= 0.05:\n",
        "      test_pass = False\n",
        "  if test_pass:\n",
        "    print(\"You passed the challenge! 🎉🎉🎉🎉🎉\")\n",
        "  else:\n",
        "    print(\"You haven't passed yet. Keep trying!\")\n",
        "\n",
        "test_book_recommendation()"
      ]
    },
    {
      "cell_type": "markdown",
      "metadata": {},
      "source": [
        "___\n",
        "### Failed attempts below (excluded from posted solution)"
      ]
    },
    {
      "cell_type": "code",
      "execution_count": null,
      "metadata": {
        "id": "xAcXjkCFCh0A"
      },
      "outputs": [],
      "source": [
        "# add your code here - consider creating a new cell for each section of code\n",
        "\n",
        "# Filter out users that have placed less than 200 ratings\n",
        "df_r_u_1 = df_ratings['user'].value_counts().to_frame('count')\n",
        "user_to_keep = df_r_u_1[df_r_u_1.loc[:, 'count'] >= 200].index.values.tolist()"
      ]
    },
    {
      "cell_type": "code",
      "execution_count": null,
      "metadata": {},
      "outputs": [],
      "source": [
        "# Filter out books (isbn) that have less than 100 ratings\n",
        "df_r_b_1 = df_ratings['isbn'].value_counts().to_frame('count')\n",
        "books_to_keep = df_r_b_1[df_r_b_1.loc[:, 'count'] >= 100].index.values.tolist()"
      ]
    },
    {
      "cell_type": "code",
      "execution_count": null,
      "metadata": {},
      "outputs": [],
      "source": [
        "# Create two new DFs, one which contains the books to keep and the other with the users to keep.\n",
        "df_r_b = df_ratings[df_ratings['isbn'].isin(books_to_keep)]\n",
        "df_r_u = df_ratings[df_ratings['user'].isin(user_to_keep)]\n",
        "\n",
        "# Store the unaltered (original) index values from both lists and remove duplicates.\n",
        "df_r_index = list(set(df_r_b.index.values.tolist() + df_r_u.index.values.tolist()))\n",
        "\n",
        "# Finally, create a new ratings DF without the users and ratings as defined earlier.\n",
        "df_r = df_ratings[df_ratings.index.isin(df_r_index)].reset_index()"
      ]
    },
    {
      "cell_type": "code",
      "execution_count": null,
      "metadata": {},
      "outputs": [],
      "source": [
        "# Create a new books dataframe where only the books listed in books_to_keep are present.\n",
        "df_b = df_books[df_books['isbn'].isin(books_to_keep)].reset_index()"
      ]
    },
    {
      "cell_type": "code",
      "execution_count": null,
      "metadata": {},
      "outputs": [],
      "source": [
        "# Merge the dataframes\n",
        "df_br = pd.merge(df_r, df_b, on='isbn')"
      ]
    },
    {
      "cell_type": "code",
      "execution_count": null,
      "metadata": {},
      "outputs": [
        {
          "name": "stdout",
          "output_type": "stream",
          "text": [
            "<class 'pandas.core.frame.DataFrame'>\n",
            "Int64Index: 137423 entries, 0 to 137422\n",
            "Data columns (total 7 columns):\n",
            " #   Column   Non-Null Count   Dtype  \n",
            "---  ------   --------------   -----  \n",
            " 0   index_x  137423 non-null  int64  \n",
            " 1   user     137423 non-null  int32  \n",
            " 2   isbn     137423 non-null  object \n",
            " 3   rating   137423 non-null  float32\n",
            " 4   index_y  137423 non-null  int64  \n",
            " 5   title    137423 non-null  object \n",
            " 6   author   137423 non-null  object \n",
            "dtypes: float32(1), int32(1), int64(2), object(3)\n",
            "memory usage: 7.3+ MB\n"
          ]
        }
      ],
      "source": [
        "df_br.info()"
      ]
    },
    {
      "cell_type": "code",
      "execution_count": null,
      "metadata": {},
      "outputs": [],
      "source": [
        "df_br_no_duplicates = df_br.drop_duplicates(['title', 'user'], keep='first')\n",
        "df_br_pivot = df_br_no_duplicates.pivot(index = 'title', columns = 'user', values = 'rating').fillna(0)\n",
        "df_br_csr = csr_matrix(df_br_pivot.values)"
      ]
    },
    {
      "cell_type": "code",
      "execution_count": null,
      "metadata": {},
      "outputs": [],
      "source": [
        "nbrs = NearestNeighbors(n_neighbors=5, algorithm='brute', metric='cosine').fit(df_br_csr)"
      ]
    },
    {
      "cell_type": "code",
      "execution_count": null,
      "metadata": {},
      "outputs": [],
      "source": [
        "#r = np.array(df_r['rating'].tolist()) # All ratings\n",
        "#b_str = df_r['isbn'].tolist()\n",
        "#b_int = {v: k for k, v in enumerate(set(b_str))}\n",
        "#b_reverse = {v: k for k, v in b_int.items()} # Use this dict to reverse the book integer created on the next line back to it's original string\n",
        "#b = np.array([b_int[x] for x in b_str]) # All book ISBNs as integers\n",
        "#u = np.array(df_r['user'].tolist())\n",
        "#u_int = {k: v for v, k in enumerate(set(u_str))} # Use this dict to reverse user integers created on the next line back to 'user'\n",
        "#u = np.array([u_int[x] for x in u_str]) # All users as integers"
      ]
    },
    {
      "cell_type": "code",
      "execution_count": null,
      "metadata": {},
      "outputs": [],
      "source": [
        "#bur = np.column_stack((b, u, r))"
      ]
    },
    {
      "cell_type": "code",
      "execution_count": null,
      "metadata": {},
      "outputs": [],
      "source": [
        "#data = csr_matrix(bur)"
      ]
    },
    {
      "cell_type": "code",
      "execution_count": null,
      "metadata": {},
      "outputs": [],
      "source": [
        "#nbrs = NearestNeighbors(n_neighbors=5, algorithm='auto', metric='cosine').fit(data)"
      ]
    },
    {
      "cell_type": "code",
      "execution_count": null,
      "metadata": {},
      "outputs": [],
      "source": [
        "#isbn = df_b.loc[df_b['title'] == \"Where the Heart Is (Oprah's Book Club (Paperback))\" , 'isbn'].iloc[0]\n",
        "#\n",
        "## get the ratings for that isbn\n",
        "##ratings = np.array(df_r.loc[df_r['isbn'] == isbn, 'rating'].tolist())\n",
        "#selection = df_r.loc[df_r['isbn'] == isbn]\n",
        "#r_rat = np.array(selection['rating'].tolist())\n",
        "#b_rat = (np.ones((1, len(r_rat))) * b_int[selection['isbn'].iloc[0]]).flatten() # Transforming the ISBN string to it's corresponding value in 'y_int' from before.\n",
        "#u_rat = np.array(selection['user'].tolist())"
      ]
    },
    {
      "cell_type": "code",
      "execution_count": null,
      "metadata": {},
      "outputs": [
        {
          "data": {
            "text/plain": [
              "0.07407636"
            ]
          },
          "metadata": {},
          "output_type": "display_data"
        }
      ],
      "source": [
        "X = df_br_pivot[df_br_pivot.index == \"Where the Heart Is (Oprah's Book Club (Paperback))\"]\n",
        "X = X.to_numpy().reshape(1, -1).flatten()"
      ]
    },
    {
      "cell_type": "code",
      "execution_count": null,
      "metadata": {},
      "outputs": [],
      "source": [
        "distances, indices = nbrs.kneighbors(X, len(df_br_pivot.index.values), True)"
      ]
    },
    {
      "cell_type": "code",
      "execution_count": null,
      "metadata": {},
      "outputs": [
        {
          "data": {
            "text/plain": [
              "array([0.        , 0.90959823, 0.9172571 , 0.9198669 , 0.9210188 ,\n",
              "       0.92478853, 0.9278776 , 0.9285197 , 0.9293628 , 0.9294567 ,\n",
              "       0.92954266, 0.92961556, 0.931002  , 0.9314079 , 0.9316913 ,\n",
              "       0.9318649 , 0.93216383, 0.9322732 , 0.93348557, 0.9343451 ,\n",
              "       0.9347042 , 0.93550926, 0.9383493 , 0.9393388 , 0.94028395,\n",
              "       0.9404569 , 0.94047284, 0.9409793 , 0.94120157, 0.9414102 ,\n",
              "       0.94165516, 0.9419774 , 0.9420757 , 0.9434027 , 0.9435293 ,\n",
              "       0.944297  , 0.9444123 , 0.9446945 , 0.94528985, 0.94533575,\n",
              "       0.9454994 , 0.9454994 , 0.9455485 , 0.9458667 , 0.94603056,\n",
              "       0.9468189 , 0.9469409 , 0.9473244 , 0.94751686, 0.9475685 ,\n",
              "       0.9477997 , 0.94792914, 0.94835633, 0.9486094 , 0.94861627,\n",
              "       0.9490222 , 0.9491406 , 0.9492118 , 0.94925433, 0.949293  ,\n",
              "       0.94963634, 0.94964415, 0.94994247, 0.9501943 , 0.9502621 ,\n",
              "       0.95041597, 0.9509487 , 0.95115525, 0.95129293, 0.9514584 ,\n",
              "       0.9519501 , 0.95227563, 0.9523064 , 0.95241606, 0.9526161 ,\n",
              "       0.9527385 , 0.9527538 , 0.9529807 , 0.95338565, 0.95376104,\n",
              "       0.9537796 , 0.95380205, 0.9538183 , 0.95385826, 0.9539128 ,\n",
              "       0.95393455, 0.9542701 , 0.954306  , 0.9544091 , 0.95444   ,\n",
              "       0.9545294 , 0.9545785 , 0.9548329 , 0.9548868 , 0.9552394 ,\n",
              "       0.95528984, 0.9556007 , 0.95618707, 0.95675105, 0.9570685 ,\n",
              "       0.9574447 , 0.9576418 , 0.95788527, 0.958052  , 0.9580578 ,\n",
              "       0.9580822 , 0.9582515 , 0.95832086, 0.95848733, 0.9585691 ,\n",
              "       0.9586211 , 0.9591972 , 0.9595195 , 0.9595431 , 0.9597281 ,\n",
              "       0.959737  , 0.95977044, 0.95986104, 0.96005523, 0.9601428 ,\n",
              "       0.96021193, 0.9604097 , 0.960521  , 0.96060216, 0.96062154,\n",
              "       0.9607825 , 0.9609108 , 0.9617772 , 0.96191204, 0.9619984 ,\n",
              "       0.962329  , 0.9625157 , 0.96256423, 0.9625901 , 0.9626081 ,\n",
              "       0.9632212 , 0.96370906, 0.9638094 , 0.96388113, 0.96394265,\n",
              "       0.96400565, 0.96400714, 0.96405244, 0.96409804, 0.96418196,\n",
              "       0.9643926 , 0.96453404, 0.96459365, 0.9647577 , 0.9648798 ,\n",
              "       0.9652295 , 0.96544373, 0.965701  , 0.96582454, 0.965846  ,\n",
              "       0.9659895 , 0.9660878 , 0.9661192 , 0.9661878 , 0.9662137 ,\n",
              "       0.9663286 , 0.9663721 , 0.966421  , 0.9666069 , 0.96662086,\n",
              "       0.96664834, 0.9666645 , 0.96667385, 0.9667097 , 0.9667302 ,\n",
              "       0.96676123, 0.966998  , 0.9670198 , 0.9670626 , 0.96709114,\n",
              "       0.9671083 , 0.96721625, 0.9674771 , 0.96750104, 0.96753645,\n",
              "       0.967589  , 0.9676339 , 0.96791434, 0.9680022 , 0.9681405 ,\n",
              "       0.9681856 , 0.9681875 , 0.96829563, 0.96834356, 0.9683677 ,\n",
              "       0.96841437, 0.96862936, 0.96863914, 0.9687196 , 0.9687316 ,\n",
              "       0.96875465, 0.96876234, 0.9687828 , 0.9689496 , 0.9690372 ,\n",
              "       0.9691149 , 0.9691222 , 0.96919477, 0.96935654, 0.96947014,\n",
              "       0.969527  , 0.96953773, 0.9695703 , 0.96957636, 0.9696832 ,\n",
              "       0.96981376, 0.96983   , 0.9699209 , 0.96996474, 0.9699869 ,\n",
              "       0.9700389 , 0.9700449 , 0.9700759 , 0.97021353, 0.9702138 ,\n",
              "       0.9703514 , 0.9704168 , 0.97052866, 0.9706556 , 0.97068226,\n",
              "       0.97069585, 0.9707884 , 0.9708353 , 0.9708372 , 0.9708423 ,\n",
              "       0.9710179 , 0.971071  , 0.97109586, 0.9711349 , 0.97115797,\n",
              "       0.97119933, 0.97124946, 0.9712716 , 0.9713052 , 0.9714981 ,\n",
              "       0.9715429 , 0.97162724, 0.9716981 , 0.97172725, 0.9717758 ,\n",
              "       0.97178704, 0.9719166 , 0.9720922 , 0.9720971 , 0.97212213,\n",
              "       0.9723458 , 0.9723609 , 0.9724338 , 0.97259206, 0.9726673 ,\n",
              "       0.9726893 , 0.97281456, 0.972822  , 0.97304064, 0.9732107 ,\n",
              "       0.97321594, 0.973239  , 0.9733888 , 0.97350454, 0.9735396 ,\n",
              "       0.9735804 , 0.97361135, 0.9736324 , 0.9736598 , 0.9737146 ,\n",
              "       0.97372395, 0.97376263, 0.9740359 , 0.97407216, 0.9740821 ,\n",
              "       0.9741069 , 0.97416496, 0.97417617, 0.9741866 , 0.97418934,\n",
              "       0.97434443, 0.9744306 , 0.9744377 , 0.97461694, 0.9746778 ,\n",
              "       0.9747032 , 0.97470504, 0.97472006, 0.97475517, 0.97495013,\n",
              "       0.9750383 , 0.9753104 , 0.9753207 , 0.9754977 , 0.9755267 ,\n",
              "       0.97560316, 0.9756456 , 0.9757279 , 0.97597516, 0.97598433,\n",
              "       0.9760865 , 0.97613186, 0.9762606 , 0.9762859 , 0.9763103 ,\n",
              "       0.97632927, 0.97633475, 0.9763777 , 0.9764861 , 0.9765342 ,\n",
              "       0.97653925, 0.9765643 , 0.9766726 , 0.9766803 , 0.9766863 ,\n",
              "       0.9767459 , 0.9767771 , 0.9767781 , 0.9768679 , 0.9770421 ,\n",
              "       0.97705096, 0.9770675 , 0.9770775 , 0.977137  , 0.9772173 ,\n",
              "       0.9772296 , 0.9772517 , 0.9772698 , 0.9772769 , 0.9773148 ,\n",
              "       0.97736305, 0.9774173 , 0.9775263 , 0.9775344 , 0.9776352 ,\n",
              "       0.9776982 , 0.9777133 , 0.9778108 , 0.9778262 , 0.9778542 ,\n",
              "       0.9778654 , 0.9779024 , 0.9779463 , 0.97803116, 0.97803956,\n",
              "       0.9781355 , 0.9783399 , 0.97838336, 0.97843504, 0.9786096 ,\n",
              "       0.9786977 , 0.97870296, 0.97871524, 0.97884154, 0.9788581 ,\n",
              "       0.97891974, 0.97892255, 0.9789327 , 0.9789479 , 0.97907054,\n",
              "       0.9791049 , 0.9791628 , 0.9793377 , 0.9793475 , 0.9794103 ,\n",
              "       0.97944707, 0.9794636 , 0.9794994 , 0.9795312 , 0.97955817,\n",
              "       0.9796103 , 0.97975993, 0.9799218 , 0.98000425, 0.98000777,\n",
              "       0.98001534, 0.98001844, 0.98005724, 0.9800585 , 0.98014987,\n",
              "       0.98029405, 0.9803038 , 0.98034024, 0.98054326, 0.98063976,\n",
              "       0.98064166, 0.9807213 , 0.98080915, 0.9810574 , 0.9812197 ,\n",
              "       0.98127437, 0.9812871 , 0.9812872 , 0.9813082 , 0.98144317,\n",
              "       0.9814464 , 0.98148626, 0.9816461 , 0.9816515 , 0.9816675 ,\n",
              "       0.98175734, 0.9817852 , 0.9817951 , 0.98182946, 0.98183656,\n",
              "       0.9818891 , 0.98190594, 0.98202854, 0.9820706 , 0.98207587,\n",
              "       0.98251456, 0.9825293 , 0.9825669 , 0.98261106, 0.98267907,\n",
              "       0.9826852 , 0.9826911 , 0.98270833, 0.982779  , 0.9828838 ,\n",
              "       0.9828903 , 0.98292786, 0.982931  , 0.98301655, 0.98302346,\n",
              "       0.98304904, 0.98314404, 0.98319495, 0.9832014 , 0.98321986,\n",
              "       0.9832345 , 0.9833855 , 0.98346895, 0.98347765, 0.9835356 ,\n",
              "       0.9836699 , 0.9836749 , 0.98374325, 0.98377097, 0.9838066 ,\n",
              "       0.983846  , 0.98387915, 0.9839027 , 0.9841196 , 0.98417026,\n",
              "       0.984204  , 0.9842062 , 0.98426837, 0.9842891 , 0.98430854,\n",
              "       0.98448044, 0.98454547, 0.984581  , 0.9846249 , 0.9846416 ,\n",
              "       0.9846462 , 0.9846467 , 0.9847452 , 0.98478454, 0.9848247 ,\n",
              "       0.98487735, 0.9849441 , 0.98499435, 0.9850617 , 0.9851641 ,\n",
              "       0.9851745 , 0.98518354, 0.9852398 , 0.9853019 , 0.9854203 ,\n",
              "       0.9855747 , 0.98570395, 0.98587775, 0.9861072 , 0.9861671 ,\n",
              "       0.98625904, 0.9863059 , 0.98632115, 0.9864219 , 0.9864703 ,\n",
              "       0.98649156, 0.98658437, 0.9865966 , 0.986716  , 0.9867426 ,\n",
              "       0.9868256 , 0.9868837 , 0.9868848 , 0.98690444, 0.98698086,\n",
              "       0.9869924 , 0.9870413 , 0.98708105, 0.9870858 , 0.9870931 ,\n",
              "       0.9871013 , 0.9871129 , 0.9871364 , 0.9871743 , 0.9872462 ,\n",
              "       0.987271  , 0.9873706 , 0.9874095 , 0.98741424, 0.98741984,\n",
              "       0.9875112 , 0.9876142 , 0.98762095, 0.98765427, 0.9876662 ,\n",
              "       0.9876684 , 0.9876803 , 0.98777056, 0.9877773 , 0.98782223,\n",
              "       0.9878862 , 0.9879006 , 0.9879459 , 0.9879562 , 0.9879606 ,\n",
              "       0.98797   , 0.98808664, 0.98820895, 0.98823076, 0.98838234,\n",
              "       0.9884206 , 0.9885321 , 0.98860484, 0.98861814, 0.98874277,\n",
              "       0.9888445 , 0.98896295, 0.98901767, 0.98907566, 0.9891178 ,\n",
              "       0.98912126, 0.989202  , 0.9892386 , 0.9892564 , 0.98931617,\n",
              "       0.9893295 , 0.989362  , 0.9894593 , 0.989543  , 0.98958975,\n",
              "       0.98964334, 0.98966366, 0.9898044 , 0.98998487, 0.99010766,\n",
              "       0.99018234, 0.99020654, 0.9903892 , 0.99041414, 0.99043244,\n",
              "       0.99057114, 0.99075425, 0.9908166 , 0.991071  , 0.9912299 ,\n",
              "       0.9912303 , 0.99124753, 0.9914017 , 0.9914745 , 0.9914817 ,\n",
              "       0.9915507 , 0.9915582 , 0.991574  , 0.9916193 , 0.9916259 ,\n",
              "       0.9916941 , 0.99180734, 0.99189824, 0.9919566 , 0.99218196,\n",
              "       0.99218667, 0.99222916, 0.99224097, 0.99225193, 0.99228   ,\n",
              "       0.9923585 , 0.99236304, 0.9923867 , 0.9926435 , 0.9926711 ,\n",
              "       0.9926869 , 0.9926888 , 0.99270624, 0.99272287, 0.992763  ,\n",
              "       0.99279624, 0.9928397 , 0.9929828 , 0.99307984, 0.99314   ,\n",
              "       0.9934373 , 0.9936282 , 0.99367726, 0.9937227 , 0.99372864,\n",
              "       0.9938377 , 0.99386775, 0.9939422 , 0.99396604, 0.99398243,\n",
              "       0.9940079 , 0.9940685 , 0.9941445 , 0.99420905, 0.9942219 ,\n",
              "       0.9943573 , 0.9944539 , 0.9944988 , 0.99462426, 0.994682  ,\n",
              "       0.99480593, 0.9948276 , 0.9949387 , 0.9949467 , 0.9950438 ,\n",
              "       0.99523133, 0.9955463 , 0.99569863, 0.99594885, 0.99635136,\n",
              "       0.9964011 , 0.9966792 , 0.9967561 , 0.997027  , 0.9971656 ,\n",
              "       0.99810034, 0.998392  , 0.99855596, 0.99867046, 1.        ,\n",
              "       1.        , 1.        , 1.        , 1.        , 1.        ,\n",
              "       1.        , 1.        , 1.        , 1.        , 1.        ,\n",
              "       1.        , 1.        , 1.        , 1.        , 1.        ,\n",
              "       1.        , 1.        , 1.        , 1.        , 1.        ,\n",
              "       1.        , 1.        , 1.        , 1.        , 1.        ,\n",
              "       1.        , 1.        , 1.        , 1.        , 1.        ,\n",
              "       1.        , 1.        , 1.        , 1.        , 1.        ,\n",
              "       1.        , 1.        , 1.        ], dtype=float32)"
            ]
          },
          "metadata": {},
          "output_type": "display_data"
        }
      ],
      "source": [
        "distances.flatten()"
      ]
    },
    {
      "cell_type": "code",
      "execution_count": null,
      "metadata": {},
      "outputs": [
        {
          "data": {
            "text/plain": [
              "array([654, 539, 558, 240, 614])"
            ]
          },
          "metadata": {},
          "output_type": "display_data"
        }
      ],
      "source": [
        "indices.flatten()"
      ]
    },
    {
      "cell_type": "code",
      "execution_count": null,
      "metadata": {},
      "outputs": [
        {
          "data": {
            "text/plain": [
              "'The Weight of Water'"
            ]
          },
          "metadata": {},
          "output_type": "display_data"
        }
      ],
      "source": [
        "df_br_pivot.index[indices.flatten()[4]]"
      ]
    },
    {
      "cell_type": "code",
      "execution_count": null,
      "metadata": {},
      "outputs": [],
      "source": [
        "X = np.column_stack((b_rat, u_rat, r_rat))"
      ]
    },
    {
      "cell_type": "code",
      "execution_count": null,
      "metadata": {},
      "outputs": [
        {
          "data": {
            "text/plain": [
              "array([[4.36540e+04, 2.77901e+05, 7.00000e+00, ..., 4.36540e+04,\n",
              "        2.76641e+05, 0.00000e+00]])"
            ]
          },
          "metadata": {},
          "output_type": "display_data"
        }
      ],
      "source": [
        "X"
      ]
    },
    {
      "cell_type": "code",
      "execution_count": null,
      "metadata": {},
      "outputs": [
        {
          "ename": "ValueError",
          "evalue": "X has 1755 features, but NearestNeighbors is expecting 3 features as input.",
          "output_type": "error",
          "traceback": [
            "\u001b[0;31m---------------------------------------------------------------------------\u001b[0m\n",
            "\u001b[0;31mValueError\u001b[0m                                Traceback (most recent call last)\n",
            "\u001b[1;32m/notebooks/PROJECTS/book-recommendation-engine-using-knn/fcc_book_recommendation_knn.ipynb Cell 21'\u001b[0m in \u001b[0;36m<module>\u001b[0;34m\u001b[0m\n",
            "\u001b[0;32m----> <a href='vscode-notebook-cell://attached-container%2B7b22636f6e7461696e65724e616d65223a222f736c656570795f636f6c64656e222c22637764223a225c5c5c5c77736c2e6c6f63616c686f73745c5c5562756e74752d32302e30345c5c686f6d655c5c7068696c5c5c617070735c5c70726163746973655c5c66726565636f646563616d70227d/notebooks/PROJECTS/book-recommendation-engine-using-knn/fcc_book_recommendation_knn.ipynb#ch0000024vscode-remote?line=0'>1</a>\u001b[0m distances, indices \u001b[39m=\u001b[39m nbrs\u001b[39m.\u001b[39;49mkneighbors(X, n_neighbors\u001b[39m=\u001b[39;49m\u001b[39m5\u001b[39;49m)\n",
            "\n",
            "File \u001b[0;32m/usr/local/lib/python3.8/dist-packages/sklearn/neighbors/_base.py:717\u001b[0m, in \u001b[0;36mKNeighborsMixin.kneighbors\u001b[0;34m(self, X, n_neighbors, return_distance)\u001b[0m\n",
            "\u001b[1;32m    <a href='file:///usr/local/lib/python3.8/dist-packages/sklearn/neighbors/_base.py?line=714'>715</a>\u001b[0m         X \u001b[39m=\u001b[39m _check_precomputed(X)\n",
            "\u001b[1;32m    <a href='file:///usr/local/lib/python3.8/dist-packages/sklearn/neighbors/_base.py?line=715'>716</a>\u001b[0m     \u001b[39melse\u001b[39;00m:\n",
            "\u001b[0;32m--> <a href='file:///usr/local/lib/python3.8/dist-packages/sklearn/neighbors/_base.py?line=716'>717</a>\u001b[0m         X \u001b[39m=\u001b[39m \u001b[39mself\u001b[39;49m\u001b[39m.\u001b[39;49m_validate_data(X, accept_sparse\u001b[39m=\u001b[39;49m\u001b[39m\"\u001b[39;49m\u001b[39mcsr\u001b[39;49m\u001b[39m\"\u001b[39;49m, reset\u001b[39m=\u001b[39;49m\u001b[39mFalse\u001b[39;49;00m)\n",
            "\u001b[1;32m    <a href='file:///usr/local/lib/python3.8/dist-packages/sklearn/neighbors/_base.py?line=717'>718</a>\u001b[0m \u001b[39melse\u001b[39;00m:\n",
            "\u001b[1;32m    <a href='file:///usr/local/lib/python3.8/dist-packages/sklearn/neighbors/_base.py?line=718'>719</a>\u001b[0m     query_is_train \u001b[39m=\u001b[39m \u001b[39mTrue\u001b[39;00m\n",
            "\n",
            "File \u001b[0;32m/usr/local/lib/python3.8/dist-packages/sklearn/base.py:585\u001b[0m, in \u001b[0;36mBaseEstimator._validate_data\u001b[0;34m(self, X, y, reset, validate_separately, **check_params)\u001b[0m\n",
            "\u001b[1;32m    <a href='file:///usr/local/lib/python3.8/dist-packages/sklearn/base.py?line=581'>582</a>\u001b[0m     out \u001b[39m=\u001b[39m X, y\n",
            "\u001b[1;32m    <a href='file:///usr/local/lib/python3.8/dist-packages/sklearn/base.py?line=583'>584</a>\u001b[0m \u001b[39mif\u001b[39;00m \u001b[39mnot\u001b[39;00m no_val_X \u001b[39mand\u001b[39;00m check_params\u001b[39m.\u001b[39mget(\u001b[39m\"\u001b[39m\u001b[39mensure_2d\u001b[39m\u001b[39m\"\u001b[39m, \u001b[39mTrue\u001b[39;00m):\n",
            "\u001b[0;32m--> <a href='file:///usr/local/lib/python3.8/dist-packages/sklearn/base.py?line=584'>585</a>\u001b[0m     \u001b[39mself\u001b[39;49m\u001b[39m.\u001b[39;49m_check_n_features(X, reset\u001b[39m=\u001b[39;49mreset)\n",
            "\u001b[1;32m    <a href='file:///usr/local/lib/python3.8/dist-packages/sklearn/base.py?line=586'>587</a>\u001b[0m \u001b[39mreturn\u001b[39;00m out\n",
            "\n",
            "File \u001b[0;32m/usr/local/lib/python3.8/dist-packages/sklearn/base.py:400\u001b[0m, in \u001b[0;36mBaseEstimator._check_n_features\u001b[0;34m(self, X, reset)\u001b[0m\n",
            "\u001b[1;32m    <a href='file:///usr/local/lib/python3.8/dist-packages/sklearn/base.py?line=396'>397</a>\u001b[0m     \u001b[39mreturn\u001b[39;00m\n",
            "\u001b[1;32m    <a href='file:///usr/local/lib/python3.8/dist-packages/sklearn/base.py?line=398'>399</a>\u001b[0m \u001b[39mif\u001b[39;00m n_features \u001b[39m!=\u001b[39m \u001b[39mself\u001b[39m\u001b[39m.\u001b[39mn_features_in_:\n",
            "\u001b[0;32m--> <a href='file:///usr/local/lib/python3.8/dist-packages/sklearn/base.py?line=399'>400</a>\u001b[0m     \u001b[39mraise\u001b[39;00m \u001b[39mValueError\u001b[39;00m(\n",
            "\u001b[1;32m    <a href='file:///usr/local/lib/python3.8/dist-packages/sklearn/base.py?line=400'>401</a>\u001b[0m         \u001b[39mf\u001b[39m\u001b[39m\"\u001b[39m\u001b[39mX has \u001b[39m\u001b[39m{\u001b[39;00mn_features\u001b[39m}\u001b[39;00m\u001b[39m features, but \u001b[39m\u001b[39m{\u001b[39;00m\u001b[39mself\u001b[39m\u001b[39m.\u001b[39m\u001b[39m__class__\u001b[39m\u001b[39m.\u001b[39m\u001b[39m__name__\u001b[39m\u001b[39m}\u001b[39;00m\u001b[39m \u001b[39m\u001b[39m\"\u001b[39m\n",
            "\u001b[1;32m    <a href='file:///usr/local/lib/python3.8/dist-packages/sklearn/base.py?line=401'>402</a>\u001b[0m         \u001b[39mf\u001b[39m\u001b[39m\"\u001b[39m\u001b[39mis expecting \u001b[39m\u001b[39m{\u001b[39;00m\u001b[39mself\u001b[39m\u001b[39m.\u001b[39mn_features_in_\u001b[39m}\u001b[39;00m\u001b[39m features as input.\u001b[39m\u001b[39m\"\u001b[39m\n",
            "\u001b[1;32m    <a href='file:///usr/local/lib/python3.8/dist-packages/sklearn/base.py?line=402'>403</a>\u001b[0m     )\n",
            "\n",
            "\u001b[0;31mValueError\u001b[0m: X has 1755 features, but NearestNeighbors is expecting 3 features as input."
          ]
        }
      ],
      "source": [
        "distances, indices = nbrs.kneighbors(X, n_neighbors=5)"
      ]
    },
    {
      "cell_type": "code",
      "execution_count": null,
      "metadata": {},
      "outputs": [
        {
          "data": {
            "text/plain": [
              "array([[  1201,   1228, 237642, 446102, 116345],\n",
              "       [  1228, 446102,   1201, 410691, 237642],\n",
              "       [  1329, 163843, 485325, 192261, 546497],\n",
              "       ...,\n",
              "       [614555, 441683, 388627, 467139, 274909],\n",
              "       [614580, 532749, 311013, 444083, 451608],\n",
              "       [616184, 612644, 556230, 539628, 301685]])"
            ]
          },
          "metadata": {},
          "output_type": "display_data"
        }
      ],
      "source": [
        "indices"
      ]
    },
    {
      "cell_type": "code",
      "execution_count": null,
      "metadata": {},
      "outputs": [
        {
          "ename": "IndexError",
          "evalue": "single positional indexer is out-of-bounds",
          "output_type": "error",
          "traceback": [
            "\u001b[0;31m---------------------------------------------------------------------------\u001b[0m\n",
            "\u001b[0;31mIndexError\u001b[0m                                Traceback (most recent call last)\n",
            "\u001b[1;32m/notebooks/PROJECTS/book-recommendation-engine-using-knn/fcc_book_recommendation_knn.ipynb Cell 22'\u001b[0m in \u001b[0;36m<module>\u001b[0;34m\u001b[0m\n",
            "\u001b[0;32m----> <a href='vscode-notebook-cell://attached-container%2B7b22636f6e7461696e65724e616d65223a222f736c656570795f636f6c64656e222c22637764223a225c5c5c5c77736c2e6c6f63616c686f73745c5c5562756e74752d32302e30345c5c686f6d655c5c7068696c5c5c617070735c5c70726163746973655c5c66726565636f646563616d70227d/notebooks/PROJECTS/book-recommendation-engine-using-knn/fcc_book_recommendation_knn.ipynb#ch0000025vscode-remote?line=0'>1</a>\u001b[0m df_b\u001b[39m.\u001b[39;49mloc[df_b[\u001b[39m'\u001b[39;49m\u001b[39misbn\u001b[39;49m\u001b[39m'\u001b[39;49m] \u001b[39m==\u001b[39;49m b_reverse[indices\u001b[39m.\u001b[39;49mflatten()[\u001b[39m1\u001b[39;49m]], \u001b[39m'\u001b[39;49m\u001b[39mtitle\u001b[39;49m\u001b[39m'\u001b[39;49m]\u001b[39m.\u001b[39;49miloc[\u001b[39m0\u001b[39;49m]\n",
            "\n",
            "File \u001b[0;32m/usr/local/lib/python3.8/dist-packages/pandas/core/indexing.py:967\u001b[0m, in \u001b[0;36m_LocationIndexer.__getitem__\u001b[0;34m(self, key)\u001b[0m\n",
            "\u001b[1;32m    <a href='file:///usr/local/lib/python3.8/dist-packages/pandas/core/indexing.py?line=963'>964</a>\u001b[0m axis \u001b[39m=\u001b[39m \u001b[39mself\u001b[39m\u001b[39m.\u001b[39maxis \u001b[39mor\u001b[39;00m \u001b[39m0\u001b[39m\n",
            "\u001b[1;32m    <a href='file:///usr/local/lib/python3.8/dist-packages/pandas/core/indexing.py?line=965'>966</a>\u001b[0m maybe_callable \u001b[39m=\u001b[39m com\u001b[39m.\u001b[39mapply_if_callable(key, \u001b[39mself\u001b[39m\u001b[39m.\u001b[39mobj)\n",
            "\u001b[0;32m--> <a href='file:///usr/local/lib/python3.8/dist-packages/pandas/core/indexing.py?line=966'>967</a>\u001b[0m \u001b[39mreturn\u001b[39;00m \u001b[39mself\u001b[39;49m\u001b[39m.\u001b[39;49m_getitem_axis(maybe_callable, axis\u001b[39m=\u001b[39;49maxis)\n",
            "\n",
            "File \u001b[0;32m/usr/local/lib/python3.8/dist-packages/pandas/core/indexing.py:1520\u001b[0m, in \u001b[0;36m_iLocIndexer._getitem_axis\u001b[0;34m(self, key, axis)\u001b[0m\n",
            "\u001b[1;32m   <a href='file:///usr/local/lib/python3.8/dist-packages/pandas/core/indexing.py?line=1516'>1517</a>\u001b[0m     \u001b[39mraise\u001b[39;00m \u001b[39mTypeError\u001b[39;00m(\u001b[39m\"\u001b[39m\u001b[39mCannot index by location index with a non-integer key\u001b[39m\u001b[39m\"\u001b[39m)\n",
            "\u001b[1;32m   <a href='file:///usr/local/lib/python3.8/dist-packages/pandas/core/indexing.py?line=1518'>1519</a>\u001b[0m \u001b[39m# validate the location\u001b[39;00m\n",
            "\u001b[0;32m-> <a href='file:///usr/local/lib/python3.8/dist-packages/pandas/core/indexing.py?line=1519'>1520</a>\u001b[0m \u001b[39mself\u001b[39;49m\u001b[39m.\u001b[39;49m_validate_integer(key, axis)\n",
            "\u001b[1;32m   <a href='file:///usr/local/lib/python3.8/dist-packages/pandas/core/indexing.py?line=1521'>1522</a>\u001b[0m \u001b[39mreturn\u001b[39;00m \u001b[39mself\u001b[39m\u001b[39m.\u001b[39mobj\u001b[39m.\u001b[39m_ixs(key, axis\u001b[39m=\u001b[39maxis)\n",
            "\n",
            "File \u001b[0;32m/usr/local/lib/python3.8/dist-packages/pandas/core/indexing.py:1452\u001b[0m, in \u001b[0;36m_iLocIndexer._validate_integer\u001b[0;34m(self, key, axis)\u001b[0m\n",
            "\u001b[1;32m   <a href='file:///usr/local/lib/python3.8/dist-packages/pandas/core/indexing.py?line=1449'>1450</a>\u001b[0m len_axis \u001b[39m=\u001b[39m \u001b[39mlen\u001b[39m(\u001b[39mself\u001b[39m\u001b[39m.\u001b[39mobj\u001b[39m.\u001b[39m_get_axis(axis))\n",
            "\u001b[1;32m   <a href='file:///usr/local/lib/python3.8/dist-packages/pandas/core/indexing.py?line=1450'>1451</a>\u001b[0m \u001b[39mif\u001b[39;00m key \u001b[39m>\u001b[39m\u001b[39m=\u001b[39m len_axis \u001b[39mor\u001b[39;00m key \u001b[39m<\u001b[39m \u001b[39m-\u001b[39mlen_axis:\n",
            "\u001b[0;32m-> <a href='file:///usr/local/lib/python3.8/dist-packages/pandas/core/indexing.py?line=1451'>1452</a>\u001b[0m     \u001b[39mraise\u001b[39;00m \u001b[39mIndexError\u001b[39;00m(\u001b[39m\"\u001b[39m\u001b[39msingle positional indexer is out-of-bounds\u001b[39m\u001b[39m\"\u001b[39m)\n",
            "\n",
            "\u001b[0;31mIndexError\u001b[0m: single positional indexer is out-of-bounds"
          ]
        }
      ],
      "source": [
        "df_b.loc[df_b['isbn'] == b_reverse[indices.flatten()[1]], 'title'].iloc[0]"
      ]
    }
  ],
  "metadata": {
    "colab": {
      "collapsed_sections": [],
      "name": "fcc_book_recommendation_knn.ipynb",
      "provenance": []
    },
    "kernelspec": {
      "display_name": "Python 3 (ipykernel)",
      "language": "python",
      "name": "python3"
    },
    "language_info": {
      "codemirror_mode": {
        "name": "ipython",
        "version": 3
      },
      "file_extension": ".py",
      "mimetype": "text/x-python",
      "name": "python",
      "nbconvert_exporter": "python",
      "pygments_lexer": "ipython3",
      "version": "3.8.10"
    }
  },
  "nbformat": 4,
  "nbformat_minor": 0
}
